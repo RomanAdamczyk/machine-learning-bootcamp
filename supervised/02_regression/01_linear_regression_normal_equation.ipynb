{
  "nbformat": 4,
  "nbformat_minor": 0,
  "metadata": {
    "colab": {
      "provenance": [],
      "authorship_tag": "ABX9TyMXBQfTprsnuPoEWv3UV/Yx"
    },
    "kernelspec": {
      "name": "python3",
      "display_name": "Python 3"
    },
    "language_info": {
      "name": "python"
    }
  },
  "cells": [
    {
      "cell_type": "code",
      "execution_count": null,
      "metadata": {
        "id": "sCu16vu6j0uT"
      },
      "outputs": [],
      "source": [
        "import numpy as np"
      ]
    },
    {
      "cell_type": "code",
      "source": [
        "X1 = np.array([1, 2, 3, 4, 5, 6])\n",
        "Y = np.array([3000, 3250, 3500, 3750, 4000, 4250])\n",
        "m = len(X1)\n",
        "\n",
        "print(f'Lata pracy: {X1}')\n",
        "print(f'Wynagrodzenie: {Y}')\n",
        "print(f'Liczba próbek: {m}')"
      ],
      "metadata": {
        "colab": {
          "base_uri": "https://localhost:8080/"
        },
        "id": "wbA7QZ4Qj4E1",
        "outputId": "63b8342f-eeed-462e-928d-9301984607fb"
      },
      "execution_count": null,
      "outputs": [
        {
          "output_type": "stream",
          "name": "stdout",
          "text": [
            "Lata pracy: [1 2 3 4 5 6]\n",
            "Wynagrodzenie: [3000 3250 3500 3750 4000 4250]\n",
            "Liczba próbek: 6\n"
          ]
        }
      ]
    },
    {
      "cell_type": "code",
      "source": [
        "X1 = X1.reshape(m, 1)\n",
        "print(X1)\n",
        "print(X1.shape)"
      ],
      "metadata": {
        "colab": {
          "base_uri": "https://localhost:8080/"
        },
        "id": "HLJTNjgsj7XH",
        "outputId": "6846fa13-8210-44c8-b089-a8cd6c5fbcbf"
      },
      "execution_count": null,
      "outputs": [
        {
          "output_type": "stream",
          "name": "stdout",
          "text": [
            "[[1]\n",
            " [2]\n",
            " [3]\n",
            " [4]\n",
            " [5]\n",
            " [6]]\n",
            "(6, 1)\n"
          ]
        }
      ]
    },
    {
      "cell_type": "code",
      "source": [
        "bias = np.ones((m, 1))\n",
        "print(bias)\n",
        "print(bias.shape)"
      ],
      "metadata": {
        "colab": {
          "base_uri": "https://localhost:8080/"
        },
        "id": "cVW-lervkLfV",
        "outputId": "f7abafdb-0690-42c6-ba56-e45e2e172c53"
      },
      "execution_count": null,
      "outputs": [
        {
          "output_type": "stream",
          "name": "stdout",
          "text": [
            "[[1.]\n",
            " [1.]\n",
            " [1.]\n",
            " [1.]\n",
            " [1.]\n",
            " [1.]]\n",
            "(6, 1)\n"
          ]
        }
      ]
    },
    {
      "cell_type": "code",
      "source": [
        "X = np.append(bias, X1, axis=1)\n",
        "print(X)\n",
        "print(X.shape)"
      ],
      "metadata": {
        "colab": {
          "base_uri": "https://localhost:8080/"
        },
        "id": "BUdZVeZWkSL0",
        "outputId": "f258173c-a590-4389-9b41-0b404187b161"
      },
      "execution_count": null,
      "outputs": [
        {
          "output_type": "stream",
          "name": "stdout",
          "text": [
            "[[1. 1.]\n",
            " [1. 2.]\n",
            " [1. 3.]\n",
            " [1. 4.]\n",
            " [1. 5.]\n",
            " [1. 6.]]\n",
            "(6, 2)\n"
          ]
        }
      ]
    },
    {
      "cell_type": "code",
      "source": [
        "np.dot(X.T, X)  #.T transponuje, dot(,) mnoży macierze"
      ],
      "metadata": {
        "colab": {
          "base_uri": "https://localhost:8080/"
        },
        "id": "dlrQSfdmkfBr",
        "outputId": "71adf777-bf2b-441b-9c22-2870abe3b031"
      },
      "execution_count": null,
      "outputs": [
        {
          "output_type": "execute_result",
          "data": {
            "text/plain": [
              "array([[ 6., 21.],\n",
              "       [21., 91.]])"
            ]
          },
          "metadata": {},
          "execution_count": 6
        }
      ]
    },
    {
      "cell_type": "code",
      "source": [
        "L = np.linalg.inv(np.dot(X.T, X))   # odwrotność\n",
        "L"
      ],
      "metadata": {
        "colab": {
          "base_uri": "https://localhost:8080/"
        },
        "id": "UF2NKga9k0yt",
        "outputId": "fbddd797-f9a1-43b8-be7c-921abb9e9cea"
      },
      "execution_count": null,
      "outputs": [
        {
          "output_type": "execute_result",
          "data": {
            "text/plain": [
              "array([[ 0.86666667, -0.2       ],\n",
              "       [-0.2       ,  0.05714286]])"
            ]
          },
          "metadata": {},
          "execution_count": 7
        }
      ]
    },
    {
      "cell_type": "code",
      "source": [
        "P = np.dot(X.T, Y)\n",
        "P"
      ],
      "metadata": {
        "colab": {
          "base_uri": "https://localhost:8080/"
        },
        "id": "YRQDPRISlTuO",
        "outputId": "76cd3398-d000-460e-ab98-840cb8836dd8"
      },
      "execution_count": null,
      "outputs": [
        {
          "output_type": "execute_result",
          "data": {
            "text/plain": [
              "array([21750., 80500.])"
            ]
          },
          "metadata": {},
          "execution_count": 9
        }
      ]
    },
    {
      "cell_type": "code",
      "source": [
        "np.dot(L,P)"
      ],
      "metadata": {
        "colab": {
          "base_uri": "https://localhost:8080/"
        },
        "id": "ANQeEyL9ldJQ",
        "outputId": "57225786-b700-405a-c2d2-c1b8eb7b2ff6"
      },
      "execution_count": null,
      "outputs": [
        {
          "output_type": "execute_result",
          "data": {
            "text/plain": [
              "array([2750.,  250.])"
            ]
          },
          "metadata": {},
          "execution_count": 10
        }
      ]
    },
    {
      "cell_type": "markdown",
      "source": [
        "Regresja liniowa przy pomocy scikit-learn"
      ],
      "metadata": {
        "id": "Q8ebO63ul2kV"
      }
    },
    {
      "cell_type": "code",
      "source": [
        "from sklearn.linear_model import LinearRegression\n",
        "\n",
        "regression = LinearRegression()\n",
        "regression.fit(X1, Y)\n",
        "\n",
        "print(regression.intercept_)\n",
        "print(regression.coef_[0])"
      ],
      "metadata": {
        "colab": {
          "base_uri": "https://localhost:8080/"
        },
        "id": "wHBK1LMRllI9",
        "outputId": "785f0589-c8fc-46e8-cff2-c040c72cc859"
      },
      "execution_count": null,
      "outputs": [
        {
          "output_type": "stream",
          "name": "stdout",
          "text": [
            "2750.0\n",
            "250.0\n"
          ]
        }
      ]
    },
    {
      "cell_type": "code",
      "source": [],
      "metadata": {
        "id": "LTIxmRF0mBUX"
      },
      "execution_count": null,
      "outputs": []
    }
  ]
}